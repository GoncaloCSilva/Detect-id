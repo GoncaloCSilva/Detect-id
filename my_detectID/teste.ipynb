{
 "cells": [
  {
   "cell_type": "markdown",
   "metadata": {},
   "source": [
    "## Teste de PostgrSQL\n",
    "\n"
   ]
  },
  {
   "cell_type": "code",
   "execution_count": 4,
   "metadata": {},
   "outputs": [
    {
     "name": "stdout",
     "output_type": "stream",
     "text": [
      "[(1, 8507, 2002, 10, 25, None, None, None, None, None, None, None, None, None, None, None, None, None), (2, 8532, 2005, 6, 18, None, None, None, None, None, None, None, None, None, None, None, None, None), (3, 8507, 2002, 5, 24, None, None, None, None, None, None, None, None, None, None, None, None, None), (4, 8532, 1971, 6, 7, None, None, None, None, None, None, None, None, None, None, None, None, None), (5, 8507, 1970, 5, 11, None, None, None, None, None, None, None, None, None, None, None, None, None)]\n"
     ]
    }
   ],
   "source": [
    "import psycopg2\n",
    "\n",
    "conn = psycopg2.connect(\n",
    "    dbname=\"detectid\",\n",
    "    user=\"postgres\",\n",
    "    password=\"Goncalo123\",\n",
    "    host=\"localhost\"\n",
    ")\n",
    "\n",
    "cur = conn.cursor()\n",
    "cur.execute(\"SELECT * FROM cdmdatabaseschema.person LIMIT 5;\")\n",
    "print(cur.fetchall())\n",
    "\n",
    "cur.close()\n",
    "conn.close()"
   ]
  }
 ],
 "metadata": {
  "kernelspec": {
   "display_name": "Python 3",
   "language": "python",
   "name": "python3"
  },
  "language_info": {
   "codemirror_mode": {
    "name": "ipython",
    "version": 3
   },
   "file_extension": ".py",
   "mimetype": "text/x-python",
   "name": "python",
   "nbconvert_exporter": "python",
   "pygments_lexer": "ipython3",
   "version": "3.13.2"
  }
 },
 "nbformat": 4,
 "nbformat_minor": 2
}
